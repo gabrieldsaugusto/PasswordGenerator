{
 "cells": [
  {
   "attachments": {},
   "cell_type": "markdown",
   "metadata": {},
   "source": [
    "#### Simple Password Generator + Storaging the Outputs (Passwords) in a .txt File\n",
    "##### Step 1: Randomizing the Password"
   ]
  },
  {
   "cell_type": "code",
   "execution_count": null,
   "metadata": {},
   "outputs": [],
   "source": [
    "#Importing the required libraries\n",
    "import random #used to perform the random generations\n",
    "import string #to add the characters needed ASCII\n",
    "import time #to create a wait time for making the code more nicer to see happening lol =D\n",
    "\n",
    "#Welcoming the user\n",
    "print('Bem vindo ao Aleatorizador de Senhas')\n",
    "time.sleep(3)\n",
    "\n",
    "#Setting with the user's information, the length of the Password, in this case for better understanding the variable will be written in Portuguese.\n",
    "nome = str(input('Digite o título/propósito da senha'))\n",
    "cumprimento = int(input('Digite um número que represente a quantidade de carácteres que deseja em sua senha'))\n",
    "print(cumprimento)\n",
    "\n",
    "#defining the characters\n",
    "minusculos = string.ascii_lowercase\n",
    "maiusculos = string.ascii_uppercase\n",
    "digitos = string.digits\n",
    "simbolos = string.punctuation\n",
    "\n",
    "todoscarac = minusculos + maiusculos + digitos + simbolos\n",
    "\n",
    "#Randomizing\n",
    "\n",
    "aleatorizar = random.sample(todoscarac, cumprimento)\n",
    "senha = \"\".join(aleatorizar)\n",
    "print(f\"Sua senha para {nome}, é: \" + senha + \"e foi salva em um arquivo .txt para sua posterior consulta.\")\n"
   ]
  },
  {
   "attachments": {},
   "cell_type": "markdown",
   "metadata": {},
   "source": [
    "##### Step 2: Storaging the Password in a .txt file"
   ]
  },
  {
   "cell_type": "code",
   "execution_count": null,
   "metadata": {},
   "outputs": [],
   "source": [
    "txt = open(f\"{nome}.txt\", \"w\")\n",
    "txt.write(f\"Sua senha gerada com a intenção {nome} é:\\n\")\n",
    "txt.writelines(senha)\n",
    "txt.close()\n"
   ]
  }
 ],
 "metadata": {
  "kernelspec": {
   "display_name": "Python 3",
   "language": "python",
   "name": "python3"
  },
  "language_info": {
   "codemirror_mode": {
    "name": "ipython",
    "version": 3
   },
   "file_extension": ".py",
   "mimetype": "text/x-python",
   "name": "python",
   "nbconvert_exporter": "python",
   "pygments_lexer": "ipython3",
   "version": "3.10.6"
  },
  "orig_nbformat": 4,
  "vscode": {
   "interpreter": {
    "hash": "b1be5a1e9e85905d3e4e97ef1b769f5caa870a8a58c9f9e0ae488b6f0a0e1baf"
   }
  }
 },
 "nbformat": 4,
 "nbformat_minor": 2
}
